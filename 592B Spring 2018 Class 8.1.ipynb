{
 "cells": [
  {
   "cell_type": "code",
   "execution_count": 3,
   "metadata": {
    "collapsed": true
   },
   "outputs": [],
   "source": [
    "%matplotlib inline"
   ]
  },
  {
   "cell_type": "markdown",
   "metadata": {},
   "source": [
    "# 592B, Class 8.1 (03/20).  Midterm Review: how do you compute a spectrum/spectrogram?"
   ]
  },
  {
   "cell_type": "code",
   "execution_count": 4,
   "metadata": {
    "collapsed": true
   },
   "outputs": [],
   "source": [
    "import numpy as np\n",
    "import matplotlib.pyplot as plt\n",
    "import librosa\n",
    "from scipy import fftpack #new\n",
    "\n",
    "from ipywidgets import interactive\n",
    "from IPython.display import Audio, display"
   ]
  },
  {
   "cell_type": "markdown",
   "metadata": {},
   "source": [
    "## Intro: spectrogram tutorial\n",
    "\n",
    "Clone the [Github repository here](https://github.com/drammock/spectrogram-tutorial) and work through it. Try using a different wave file than the one used as a sample. Also compute a spectrogram/spectrograms using Praat for comparison. And try computing a narrow-band spectrogram, too.\n",
    "\n",
    "Some things to think about and answer:\n",
    "- What library and function is being used to compute the spectrogram here and how do you find out more about it?\n",
    "- What choices involved in computing a spectrogram also come up for computing a spectrum? What choices only come up for computing a spectrogram and not the spectrum?\n",
    "- What would ringing look like in the spectrum?\n",
    "- How do you compute a wide-band spectrogram? How do you compute a narrow-band spectrogram?\n",
    "\n",
    "---"
   ]
  },
  {
   "cell_type": "markdown",
   "metadata": {},
   "source": [
    "## Intro 2: windowing/leakage tutorial\n",
    "    \n",
    "Work through the Elegant SciPy tutorial section on [windowing](https://www.safaribooksonline.com/library/view/elegant-scipy/9781491922927/ch04.html#windowing). (You can copy and paste code from there into this notebook.)\n",
    "\n",
    "Some things to think about/answer:\n",
    "- What happens to the spectrum when you change the width of the rectangular pulse?\n",
    "- Can you write a function so you can easily vary the width of the rectangular pulse and make the two plots?\n",
    "- Why do we do windowing?\n",
    "- How can you window with a Gaussian window rather than a Kaiser window?\n",
    "- How is windowing for computing the spectrum related to windowing in computing the spectrogram?"
   ]
  },
  {
   "cell_type": "markdown",
   "metadata": {},
   "source": [
    "## Intro 3: Time-limited signals and window length\n",
    "\n",
    "Do the exercises I found [here](https://www.gaussianwaves.com/2011/01/fft-and-spectral-leakage-2/). Note that the code is in Matlab; you'll need to port to Python and modify as necessary.\n",
    "\n",
    "Things to think about and answer:\n",
    "\n",
    "- What causes spectral leakage?"
   ]
  },
  {
   "cell_type": "markdown",
   "metadata": {},
   "source": [
    "## Intro 4: theoretical underpinnings\n",
    "\n",
    "Remember that we ended up with the Fourier series of $g(t)$ defined as $T \\rightarrow \\infty$, expressed as a double integral:\n",
    "\n",
    "\\begin{equation}\n",
    "g(t) = \\int_{-\\infty}^{\\infty} \\int_{-\\infty}^{\\infty}e^{-2\\pi ift}g(t)dt e^{2\\pi ift}df\n",
    "\\end{equation}\n",
    "\n",
    "and then we derived $\\mathcal{F}g$, where $\\mathcal{F}g$ is defined as the Fourier transform of a function $g(t)$:\n",
    "\n",
    "\\begin{equation}\n",
    "\\mathcal{F}g = \\int_{-\\infty}^{\\infty}e^{-2\\pi ift} g(t)dt      \n",
    "\\end{equation}\n",
    "\n",
    "and the inverse Fourier transform $\\mathcal{F}^{-1}(t)$ of a function $\\mathcal{F}g(f)$ is: \n",
    "\n",
    "\\begin{equation}\n",
    "g(t) = \\int_{-\\infty}^{\\infty}e^{2\\pi ift} \\mathcal{F}gdf      \n",
    "\\end{equation}\n",
    "\n",
    "Then we briefly introduced the **discrete Fourier transform (DFT)**: this is what we use when we're computing the Fourier Transform in python because we are working with *digital* signals. \n",
    "\n"
   ]
  },
  {
   "cell_type": "markdown",
   "metadata": {},
   "source": [
    "## The Discrete Fourier Transform\n",
    "\n",
    "Today we're going to work on understanding the DFT a little more, because it will help us understand what's going on when we invoke `fftpack.fft` and have a deeper understanding of the answers to the review questions above. The derivation here follows Osgood Chapter 6.\n",
    "\n",
    "Our goal is to find a discrete version of $\\mathcal{F}g(f)$, the Fourier transform of a function $g(t)$. (Note: by writing $\\mathcal{F}g(f)$, we mean that the function $\\mathcal{F}g$, the Fourier transform of $g(t)$, is a function of frequency, $f$. We start with $g(t)$, which is a function of time $t$, but once we take the Fourier transform of $g(t)$, $\\mathcal{F}g$, we have a function of frequency $f$.). \n",
    "\n",
    "To do this, we need to find three things:\n",
    "- A discrete version of $g(t)$ that reasonably approximates $g(t)$\n",
    "- A discrete version of $\\mathcal{F}g(f)$ that reasonably approximates $\\mathcal{F}g(f)$\n",
    "- A way in which these two discrete versions are related, which approximates the relation between the continuous versions\n",
    "\n",
    "We start by assuming that $g(t)$ is:\n",
    "- *time-limited*, meaning that $g(t)$ is zero outside of $0\\leq t \\leq L$, where $L$ is the length of the signal (in time)\n",
    "- *band-limited*, meaning that $\\mathcal{F}g(f)$ vanishes outside of $0 \\lt f \\lt 2B$, where $B$ is the *bandwith* of the signal.\n",
    "\n",
    "\n",
    "By the Sampling Theorem, if we sample $g(t)$ at the Nyquist rate of $2B$ samples/second, we can reconstruct $g(t)$ perfectly. This sampled version of $g(t)$, call it $g_{discrete}(t)$, is just a list of $N$ sampled values:\n",
    "\n",
    "$$ g(t_0), g(t_1), \\ldots, g(t_{N-1}) $$,\n",
    "\n",
    "where $N=2BL$ and the timepoints are evenly spaced apart by $\\frac{1}{2B}$.\n",
    "\n",
    "***In-class exercise: Why is $N=2BL$ and why does $\\Delta t_n = \\frac{1}{2B}$?***\n",
    "\n",
    "---\n"
   ]
  },
  {
   "cell_type": "markdown",
   "metadata": {},
   "source": [
    "### The Dirac comb\n",
    "\n",
    "We can re-express $g_{discrete}(t)$ using the Dirac comb $III(t)$, defined as:\n",
    "\n",
    "$$III(t) = \\displaystyle\\sum_{n=0}^{N-1} \\delta(t-t_n) $$\n",
    "\n",
    "All this is is a \"train\" of pulses, a comb of \"lollipops\" with amplitude 1, where the pulses occur exactly at the sampled points $t_0, t_1, \\ldots, t_{N-1}$.\n",
    "\n",
    "Here's an image of a Dirac comb from Wikipedia. In our case, $T = 1/2B$.\n",
    "\n",
    "<img alt = \"Dirac comb plot\" src=\"https://upload.wikimedia.org/wikipedia/commons/4/49/Dirac_comb.svg\" width=\"300\"  />\n",
    "\n",
    "\n",
    "And here's an example of [one way to define a Dirac comb function](https://scipython.com/book/chapter-6-numpy/examples/a-comb-function/), from [scipython.com](https://scipython.com).\n"
   ]
  },
  {
   "cell_type": "code",
   "execution_count": 4,
   "metadata": {},
   "outputs": [
    {
     "name": "stdout",
     "output_type": "stream",
     "text": [
      "[1 0 0 0 0 1 0 0 0 0 1 0 0 0 0 1 0 0 0 0 1 0 0 0 0 1 0 0 0 0 1 0 0 0 0 1 0\n",
      " 0 0 0 1 0 0 0 0 1 0 0 0 0 1 0 0 0 0 1 0 0 0 0 1 0 0 0 0 1 0 0 0 0 1 0 0 0\n",
      " 0 1 0 0 0 0 1 0 0 0 0 1 0 0 0 0 1 0 0 0 0 1 0 0 0 0 1]\n"
     ]
    }
   ],
   "source": [
    "N, n = 101, 5\n",
    "def f(i):\n",
    "    return (i % n == 0) * 1\n",
    "\n",
    "comb = np.fromfunction(f, (N,), dtype=int)\n",
    "print(comb)\n"
   ]
  },
  {
   "cell_type": "markdown",
   "metadata": {},
   "source": [
    "***In-class discussion: Does the Dirac comb form an orthogonal basis set?***"
   ]
  },
  {
   "cell_type": "markdown",
   "metadata": {},
   "source": [
    "---\n",
    "\n",
    "Using $III(t)$, we can now express $g_{discrete}(t)$ as:\n",
    "\n",
    "$$g_{discrete}(t) = g(t) \\displaystyle\\sum_{n=0}^{N-1} \\delta(t-t_n) = \\displaystyle\\sum_{n=0}^{N-1} g(t) \\delta(t-t_n) $$\n",
    "\n",
    "And the Fourier transform of $g_{discrete}(t)$ is:\n",
    "\n",
    "\\begin{equation}\n",
    "\\mathcal{F}g_{discrete}(f) = \\displaystyle\\sum_{n=0}^{N-1} = \\mathcal{F}g(t_n) \\delta(t-t_n) = \\displaystyle\\sum_{n=0}^{N-1} g(t_n) e^{-2\\pi ift_n}      \n",
    "\\end{equation}\n",
    "\n",
    "This gives us the continuous Fourier transform of the sampled version of $g(t)$.\n",
    "\n",
    "Now let's think about $g(t)$ in the frequency domain. Remember by assumption that $g(t)$ is time-limited so $g(t)$ is zero outside of $0\\leq t \\leq L$, where $L$ is the length of the signal (in time). So we can apply the Sampling Theorem to reconstruct $\\mathcal{F}g(f)$ in the frequency domain. The sampling rate we need (the Nyquist rate) for perfect reconstruction is $L$ samples/Hz and the spacing between sampling points is $1/L$.\n",
    "\n",
    "Since $\\mathcal{F}g(f)$ is band-limited by assumption and  vanishes outside of $0 \\lt f \\lt 2B$, we sample $\\mathcal{F}g(f)$ over $0 \\lt f \\lt 2B$, with points $1/L$ Hz apart. \n",
    "\n",
    "---\n",
    "\n",
    "***In-class exercise: Why is the sampling rate $L$ samples/Hz and why is the interval between sampling points $1/L$ Hz? What is the total number of sampling points, $N$***\n",
    "\n",
    "---\n",
    "\n",
    "This sampled version of $\\mathcal{F}g(f)$, call it $\\mathcal{F}g_{discrete}(f)$, is just a list of $N$ sampled values:\n",
    "\n",
    "$$ f_0=0,\\, f_1 = \\frac{1}{L},\\, \\ldots, f_{N-1} = \\frac{N-1}{L} $$,\n",
    "\n",
    "And if we want the discrete version of $g_{discrete}(t)$, then we want to take $[\\mathcal{F}(g_{discrete})](f)$, call this $F(f)$ for short.\n",
    "\n",
    "Taking our definition of the Fourier transform of $g_{discrete}(t)$,\n",
    "\n",
    "$$\\mathcal{F}g(t_n) \\delta(t-t_n) = \\displaystyle\\sum_{n=0}^{N-1} g(t_n) e^{-2\\pi ift_n}$$\n",
    "\n",
    "this will give us the list:\n",
    "\n",
    "$$ F(f_0) = \\displaystyle\\sum_{n=0}^{N-1} g(t_n) e^{-2\\pi if_0t_n}, \\ldots, F(f_{N-1})=\\displaystyle\\sum_{n=0}^{N-1} g(t_n) e^{-2\\pi if_{N-1}t_n}  $$\n",
    "\n",
    "And so now we have a way to go from $g_{discrete}(t)$ to $\\mathcal{F}g_{discrete}(f)$:\n",
    "\n",
    "$$F(f_m) = \\displaystyle\\sum_{n=0}^{N-1} g(t_n) e^{-2\\pi if_mt_n} $$\n",
    "\n",
    "Recalling that $t_n = \\frac{n}{2B}$ and $f_m = \\frac{m}{L}$ and $N=2BL$, we can re-write this as:\n",
    "\n",
    "$$F(f_m) = \\displaystyle\\sum_{n=0}^{N-1} g(t_n) e^{-2\\pi inm/N} $$\n",
    "\n",
    "***In-class exercise: derive our final expression of $F(f_m)$.***\n",
    "\n",
    "---\n",
    "\n",
    "At this point, let's come back to one of our starting questions and discuss. You should have more insight on this now! What is the \"grid\" spacing in the time-domain? The frequency domain? How are they related? \n",
    "\n",
    "> Why is the computation of the spectrum affected by the \"window length\" over which it is computed, and how is it affected?\n",
    "\n",
    "---"
   ]
  },
  {
   "cell_type": "markdown",
   "metadata": {},
   "source": [
    "## Positive and negative frequencies (Osgood 2010, p. 260)\n",
    "\n",
    "Given our discrete Fourier transform $[\\mathcal{F}(g_{discrete})](f)$, call this $F(f)$:\n",
    "\n",
    "$$F(f_m) = \\displaystyle\\sum_{n=0}^{N-1} g(t_n) e^{-2\\pi inm/N} $$\n",
    "\n",
    "it turns out that the spectrum *splits* at $N/2$. See Osgood (2010) for the derivation, but due to some periodicity relations:\n",
    "\n",
    "$$ F[\\frac{N}{2} + 1] = \\overline{F[\\frac{N}{2} - 1]}$$ \n",
    "$$ F[\\frac{N}{2} + 2] = \\overline{F[\\frac{N}{2} - 2]}$$ \n",
    "$$ \\vdots$$\n",
    "\n",
    "***In-class exercise: What is F[0]? What do the periodicity relations mean geometrically?***\n",
    "\n",
    "So because of this, the convention is to say, for a spectrum indexed from 0 to $N-1$:\n",
    "- The frequencies from $m=1$ to $m= N/2-1$ are the \"positive\" frequencies\n",
    "- The frequencies from $m=N/2+1$ to $m= N-1$ are the \"negative\" frequencies\n",
    "\n",
    "For a real signal, all the information you need is in the positive frequencies and the first component $F[0]$.\n",
    "\n"
   ]
  }
 ],
 "metadata": {
  "kernelspec": {
   "display_name": "Python 3",
   "language": "python",
   "name": "python3"
  },
  "language_info": {
   "codemirror_mode": {
    "name": "ipython",
    "version": 3
   },
   "file_extension": ".py",
   "mimetype": "text/x-python",
   "name": "python",
   "nbconvert_exporter": "python",
   "pygments_lexer": "ipython3",
   "version": "3.6.3"
  }
 },
 "nbformat": 4,
 "nbformat_minor": 2
}
